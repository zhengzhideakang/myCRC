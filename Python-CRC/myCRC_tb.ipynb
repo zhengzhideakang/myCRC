{
 "cells": [
  {
   "cell_type": "code",
   "execution_count": 1,
   "metadata": {},
   "outputs": [
    {
     "name": "stdout",
     "output_type": "stream",
     "text": [
      "输入数据: 0x46C45284\n",
      "myCrc最终CRC值二进制: 1001001001101001\n",
      "myCrc最终CRC值16进制: 0x9269\n",
      "pyCRC的CRC结果是is: 0x9269\n",
      "myCRC和pyCRC的CRC结果一致！\n"
     ]
    }
   ],
   "source": [
    "from pycrc.algorithms import Crc\n",
    "from myCRC import CRCCalculator, CRCConfig\n",
    "import random\n",
    "\n",
    "# myCRC示例用法\n",
    "crc_config = CRCConfig(\n",
    "    width       = 16    ,\n",
    "    poly        = 0x8005,\n",
    "    reflect_in  = True  ,\n",
    "    xor_in      = 0xFFFF,\n",
    "    reflect_out = True  ,\n",
    "    xor_out     = 0x0000\n",
    ")\n",
    "crc_calculator = CRCCalculator(crc_config)\n",
    "\n",
    "# input_data = 0x12345678 # 输入数据\n",
    "input_data = random.randint(0, 0xFFFFFFFF) # 随机输入\n",
    "\n",
    "print(f\"输入数据: 0x{input_data:X}\")\n",
    "mycrc_result = crc_calculator.calculate_crc(input_data)\n",
    "final_crc_hex = hex(int(mycrc_result, 2))[2:].upper()\n",
    "print(f\"myCrc最终CRC值二进制: {mycrc_result}\")\n",
    "print(f\"myCrc最终CRC值16进制: 0x{final_crc_hex}\")\n",
    "\n",
    "# pycrc示例用法\n",
    "crc = Crc(\n",
    "    width       = 16    ,\n",
    "    poly        = 0x8005,\n",
    "    reflect_in  = True  ,\n",
    "    xor_in      = 0xFFFF,\n",
    "    reflect_out = True  ,\n",
    "    xor_out     = 0x0000\n",
    ")\n",
    "# 将整数转换为字节序列，假设是大端字节序\n",
    "input_data_list = input_data.to_bytes((input_data.bit_length() + 7) // 8, byteorder='big') or bytes([0])\n",
    "pycrc_result = crc.bit_by_bit(input_data_list)\n",
    "print(f\"pyCRC的CRC结果是is: 0x{pycrc_result:02X}\")\n",
    "\n",
    "# 判断两个16进制是否一样\n",
    "if final_crc_hex == hex(pycrc_result)[2:].upper():\n",
    "    print(\"myCRC和pyCRC的CRC结果一致！\")\n",
    "else:\n",
    "    print(\"myCRC和pyCRC的CRC结果不一致！\")"
   ]
  }
 ],
 "metadata": {
  "kernelspec": {
   "display_name": "Python 3",
   "language": "python",
   "name": "python3"
  },
  "language_info": {
   "codemirror_mode": {
    "name": "ipython",
    "version": 3
   },
   "file_extension": ".py",
   "mimetype": "text/x-python",
   "name": "python",
   "nbconvert_exporter": "python",
   "pygments_lexer": "ipython3",
   "version": "3.10.11"
  }
 },
 "nbformat": 4,
 "nbformat_minor": 2
}
